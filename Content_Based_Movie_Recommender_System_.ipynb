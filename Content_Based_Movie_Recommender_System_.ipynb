{
 "cells": [
  {
   "cell_type": "markdown",
   "metadata": {
    "id": "4h5NjWmUmihf"
   },
   "source": [
    "## What are Recommender Systems ?\n"
   ]
  },
  {
   "cell_type": "code",
   "execution_count": null,
   "metadata": {
    "id": "T4GjlRfmmWPI"
   },
   "outputs": [],
   "source": []
  },
  {
   "cell_type": "markdown",
   "metadata": {
    "id": "PB6COh42_AqC"
   },
   "source": [
    "## Types of Recommender Systems"
   ]
  },
  {
   "cell_type": "code",
   "execution_count": null,
   "metadata": {
    "id": "x4t6IfIIVKTl"
   },
   "outputs": [],
   "source": []
  },
  {
   "cell_type": "markdown",
   "metadata": {
    "id": "U-P_5HBsWkH4"
   },
   "source": [
    "## Use Cases and Applications :"
   ]
  },
  {
   "cell_type": "code",
   "execution_count": null,
   "metadata": {
    "id": "i9sXPmE_WjH_"
   },
   "outputs": [],
   "source": []
  },
  {
   "cell_type": "markdown",
   "metadata": {
    "id": "s43IxF7BY8Cx"
   },
   "source": [
    "## Why Recommender Systems?"
   ]
  },
  {
   "cell_type": "code",
   "execution_count": null,
   "metadata": {
    "id": "dc5naoxlY8tG"
   },
   "outputs": [],
   "source": []
  },
  {
   "cell_type": "markdown",
   "metadata": {
    "id": "nMqd5Lr7A-tb"
   },
   "source": [
    "## Project Flow"
   ]
  },
  {
   "cell_type": "code",
   "execution_count": null,
   "metadata": {
    "id": "v8GokoJpBGvY"
   },
   "outputs": [],
   "source": [
    "# DATA -> PREPROCESSING -> MODEL -> WEBSITE -> DEPLOY ON SERVER"
   ]
  },
  {
   "cell_type": "code",
   "execution_count": null,
   "metadata": {
    "id": "VoKDNwp9CdSU"
   },
   "outputs": [],
   "source": [
    "#importing libraries\n",
    "import pandas as pd\n",
    "import numpy as np"
   ]
  },
  {
   "cell_type": "code",
   "execution_count": null,
   "metadata": {
    "id": "66zZAI8YBSgn"
   },
   "outputs": [],
   "source": [
    "#TMDB 5000 DATASET\n",
    "credits = pd.read_csv(\"../Movie Recommender System/data/tmdb_5000_credits.csv\")\n",
    "credits.head()"
   ]
  },
  {
   "cell_type": "code",
   "execution_count": null,
   "metadata": {
    "id": "HZZ6G5pkGijk"
   },
   "outputs": [],
   "source": [
    "print(credits.shape)\n",
    "credits.columns"
   ]
  },
  {
   "cell_type": "code",
   "execution_count": null,
   "metadata": {
    "id": "WbUtAYfrDdc9"
   },
   "outputs": [],
   "source": [
    "movies = pd.read_csv(\"../Movie Recommender System/data/tmdb_5000_movies.csv\")\n",
    "movies.head()"
   ]
  },
  {
   "cell_type": "code",
   "execution_count": null,
   "metadata": {
    "id": "ps04lQH3GX8a"
   },
   "outputs": [],
   "source": [
    "print(movies.shape)\n",
    "movies.columns"
   ]
  },
  {
   "cell_type": "code",
   "execution_count": null,
   "metadata": {
    "id": "ODoptaQNG6si"
   },
   "outputs": [],
   "source": [
    "#joining 2 dbs over title column\n",
    "data = movies.merge(credits, on = \"title\")\n",
    "data.shape"
   ]
  },
  {
   "cell_type": "code",
   "execution_count": null,
   "metadata": {
    "id": "2W4o6oJBHh15"
   },
   "outputs": [],
   "source": [
    "data.head()\n",
    "data.info()"
   ]
  },
  {
   "cell_type": "code",
   "execution_count": null,
   "metadata": {
    "id": "YCJOMBwfIF8K"
   },
   "outputs": [],
   "source": [
    "data[\"original_language\"].value_counts()\n",
    "#most of the movies are in \"en\""
   ]
  },
  {
   "cell_type": "code",
   "execution_count": null,
   "metadata": {
    "id": "6tcuMS-rHlAC"
   },
   "outputs": [],
   "source": [
    "#recommending movies based on tags which were created on columns\n",
    "#genres                              #id\n",
    "#keywords                            #title(in English)\n",
    "#overview(summary)                   #release date\n",
    "#revenue                             #cast\n",
    "#crew"
   ]
  },
  {
   "cell_type": "code",
   "execution_count": null,
   "metadata": {
    "id": "TN3yvpJnMA5-"
   },
   "outputs": [],
   "source": [
    "data = data[[\"movie_id\",\"genres\",\"title\",\"overview\",\"keywords\",\"release_date\",\"cast\",\"crew\",\"revenue\"]]\n",
    "data.head(2)"
   ]
  },
  {
   "cell_type": "code",
   "execution_count": null,
   "metadata": {
    "id": "Us_vc3z_MNfm"
   },
   "outputs": [],
   "source": [
    "#create a new dataframe with cols (movie_id, title, tags)\n",
    "#merging rest cols to get tags col\n",
    "#(top actors in cast, directors in crew, imp words in genres,keywords append to overview)\n",
    "data[\"release_date\"] = pd.to_datetime(data[\"release_date\"])\n",
    "data[\"year\"] = data[\"release_date\"].dt.year\n",
    "data.info()"
   ]
  },
  {
   "cell_type": "code",
   "execution_count": null,
   "metadata": {
    "id": "HwHxzTR5SMoT"
   },
   "outputs": [],
   "source": [
    "#changing data types of columns year and revenue\n",
    "data[\"revenue\"] = data[\"revenue\"].astype(str)\n",
    "data[\"year\"] = data[\"year\"].astype(str)\n",
    "data.info()"
   ]
  },
  {
   "cell_type": "code",
   "execution_count": null,
   "metadata": {
    "id": "ssXq0iIMTWpN"
   },
   "outputs": [],
   "source": [
    "#drop column release date\n",
    "data.drop(\"release_date\", axis = 1, inplace=True)"
   ]
  },
  {
   "cell_type": "code",
   "execution_count": null,
   "metadata": {
    "id": "ANsjhS1zTtQa"
   },
   "outputs": [],
   "source": [
    "#checking if null values are there or not\n",
    "data.isna().sum()"
   ]
  },
  {
   "cell_type": "code",
   "execution_count": null,
   "metadata": {
    "id": "apnWVlDSUC-e"
   },
   "outputs": [],
   "source": [
    "data = data.dropna()\n",
    "data.isna().sum()"
   ]
  },
  {
   "cell_type": "code",
   "execution_count": null,
   "metadata": {
    "id": "zIAxD4X7VmFf"
   },
   "outputs": [],
   "source": [
    "#checking for duplicate data\n",
    "data.duplicated().sum()"
   ]
  },
  {
   "cell_type": "code",
   "execution_count": null,
   "metadata": {
    "id": "1cOz7SDzVq2F"
   },
   "outputs": [],
   "source": [
    "data.loc[0,\"genres\"]\n",
    "#genre col data is a list of dicts 2nd values are actual genre\n",
    "\n",
    "# genres = [item[\"name\"] for item in mylist]\n",
    "# mylist = '[{\"id\": 28, \"name\": \"Action\"}, {\"id\": 12, \"name\": \"Adventure\"}, {\"id\": 14, \"name\": \"Fantasy\"}, {\"id\": 878, \"name\": \"Science Fiction\"}]'\n",
    "# print(genres)\n",
    "# => ['Action', 'Adventure', 'Fantasy', 'Science Fiction']"
   ]
  },
  {
   "cell_type": "code",
   "execution_count": null,
   "metadata": {
    "id": "kRpdVxWjWU-u"
   },
   "outputs": [],
   "source": [
    "import ast\n",
    "def get_genre(obj):\n",
    "  mylist = []\n",
    "  for item in ast.literal_eval(obj):\n",
    "    mylist.append(item[\"name\"])\n",
    "  return mylist"
   ]
  },
  {
   "cell_type": "code",
   "execution_count": null,
   "metadata": {
    "id": "HHJFNLnCXsXm"
   },
   "outputs": [],
   "source": [
    "data[\"genres\"] = data[\"genres\"].apply(get_genre)"
   ]
  },
  {
   "cell_type": "code",
   "execution_count": null,
   "metadata": {
    "id": "D91z3FBhaFZ8"
   },
   "outputs": [],
   "source": [
    "data.loc[0,\"keywords\"]\n",
    "#keyword col data is also a string form of list of dicts whose 2nd values are needed"
   ]
  },
  {
   "cell_type": "code",
   "execution_count": null,
   "metadata": {
    "id": "YD23HesSdIXF"
   },
   "outputs": [],
   "source": [
    "import ast\n",
    "def get_keyword(obj):\n",
    "  mylist = []\n",
    "  for item in ast.literal_eval(obj):\n",
    "    mylist.append(item[\"name\"])\n",
    "  return mylist"
   ]
  },
  {
   "cell_type": "code",
   "execution_count": null,
   "metadata": {
    "id": "gFYfUSGIbOoP"
   },
   "outputs": [],
   "source": [
    "data[\"keywords\"] = data[\"keywords\"].apply(get_keyword)"
   ]
  },
  {
   "cell_type": "code",
   "execution_count": null,
   "metadata": {
    "id": "dIusS_qUbWcF"
   },
   "outputs": [],
   "source": [
    "data.head(2)"
   ]
  },
  {
   "cell_type": "markdown",
   "metadata": {
    "id": "tqgkpArDfITM"
   },
   "source": [
    "### getting top 3 members in cast"
   ]
  },
  {
   "cell_type": "code",
   "execution_count": null,
   "metadata": {
    "id": "hZ-IeTXBbvmy"
   },
   "outputs": [],
   "source": [
    "data.loc[0,\"cast\"]"
   ]
  },
  {
   "cell_type": "code",
   "execution_count": null,
   "metadata": {
    "id": "pdwuCRomdYnf"
   },
   "outputs": [],
   "source": [
    "def get_cast3(obj):\n",
    "  ctr = 0\n",
    "  mylist = []\n",
    "  for item in ast.literal_eval(obj):\n",
    "    if(ctr<3):\n",
    "      mylist.append(item[\"name\"])\n",
    "    else:\n",
    "      break\n",
    "    ctr += 1\n",
    "  return mylist"
   ]
  },
  {
   "cell_type": "code",
   "execution_count": null,
   "metadata": {
    "id": "5BVHefckb6v3"
   },
   "outputs": [],
   "source": [
    "data[\"cast\"] = data[\"cast\"].apply(get_cast3)"
   ]
  },
  {
   "cell_type": "markdown",
   "metadata": {},
   "source": [
    "### getting director from crew"
   ]
  },
  {
   "cell_type": "code",
   "execution_count": null,
   "metadata": {
    "id": "JCWgRbYabziA"
   },
   "outputs": [],
   "source": [
    "data.loc[0,\"crew\"]"
   ]
  },
  {
   "cell_type": "code",
   "execution_count": null,
   "metadata": {
    "id": "l3MyCv3FeRyn"
   },
   "outputs": [],
   "source": [
    "import ast\n",
    "def get_dir(obj):\n",
    "  mylist = []\n",
    "  for i in ast.literal_eval(obj):\n",
    "    if(i[\"job\"]==\"Director\"):\n",
    "      mylist.append(i[\"name\"])\n",
    "      break\n",
    "  return mylist"
   ]
  },
  {
   "cell_type": "code",
   "execution_count": null,
   "metadata": {
    "id": "pN1v9Ac-cTJi"
   },
   "outputs": [],
   "source": [
    "data[\"crew\"] = data[\"crew\"].apply(get_dir)"
   ]
  },
  {
   "cell_type": "markdown",
   "metadata": {
    "id": "9FjeAvwyfRdH"
   },
   "source": [
    "### converting overview to list"
   ]
  },
  {
   "cell_type": "code",
   "execution_count": null,
   "metadata": {
    "id": "3gXVl4NZfWqj"
   },
   "outputs": [],
   "source": [
    "data[\"overview\"] = data[\"overview\"].apply(lambda x: x.split())"
   ]
  },
  {
   "cell_type": "code",
   "execution_count": null,
   "metadata": {
    "id": "EXP9ykzQcWDr"
   },
   "outputs": [],
   "source": [
    "data.head()"
   ]
  },
  {
   "cell_type": "markdown",
   "metadata": {
    "id": "AOH7f1ajgA4C"
   },
   "source": [
    "### Transformation of columns: (removing blank spaces between words of same phrase)"
   ]
  },
  {
   "cell_type": "code",
   "execution_count": null,
   "metadata": {
    "id": "8VFSc_0we1AS"
   },
   "outputs": [],
   "source": [
    "columns = [\"genres\",\"overview\",\"keywords\",\"cast\",\"crew\"]\n",
    "for col in columns:\n",
    "  data[col] = data[col].apply(lambda x:[i.replace(\" \",\"\") for i in x])"
   ]
  },
  {
   "cell_type": "code",
   "execution_count": null,
   "metadata": {
    "id": "MJFjCj3Tg-U6"
   },
   "outputs": [],
   "source": [
    "data.head(2)"
   ]
  },
  {
   "cell_type": "code",
   "execution_count": null,
   "metadata": {
    "id": "oG94YCi8iLWS"
   },
   "outputs": [],
   "source": [
    "data[\"revenue\"] = data[\"revenue\"].apply(lambda x : x.split())\n",
    "data[\"year\"] = data[\"year\"].apply(lambda x : x.split())"
   ]
  },
  {
   "cell_type": "markdown",
   "metadata": {
    "id": "Bww-hyEaheTR"
   },
   "source": [
    "### Concatenate all cols into a tag column"
   ]
  },
  {
   "cell_type": "code",
   "execution_count": null,
   "metadata": {
    "id": "HxffUZgFhPde"
   },
   "outputs": [],
   "source": [
    "data[\"tag\"] = data[\"genres\"]+data[\"overview\"]+data[\"keywords\"]+data[\"cast\"]+data[\"crew\"]+data[\"revenue\"]+data[\"year\"]\n",
    "data.loc[0,\"tag\"]"
   ]
  },
  {
   "cell_type": "markdown",
   "metadata": {
    "id": "la0Mw003ieD8"
   },
   "source": [
    "### Using new dataframe with 3 columns: movie_id, title, tag"
   ]
  },
  {
   "cell_type": "code",
   "execution_count": null,
   "metadata": {
    "id": "Jje_e0WCidlc"
   },
   "outputs": [],
   "source": [
    "movies = data[['movie_id', 'title', 'tag']]\n",
    "movies.loc[0,\"tag\"]"
   ]
  },
  {
   "cell_type": "code",
   "execution_count": null,
   "metadata": {
    "id": "zvygajEbjqSq"
   },
   "outputs": [],
   "source": [
    "movies[\"tag\"] = movies[\"tag\"].apply(lambda x: \" \".join(x))"
   ]
  },
  {
   "cell_type": "code",
   "execution_count": null,
   "metadata": {
    "id": "EkaQ8YOgkODI"
   },
   "outputs": [],
   "source": [
    "movies.head()"
   ]
  },
  {
   "cell_type": "code",
   "execution_count": null,
   "metadata": {
    "id": "bBaTLzT6kWeb"
   },
   "outputs": [],
   "source": [
    "movies.tag[0]"
   ]
  },
  {
   "cell_type": "code",
   "execution_count": null,
   "metadata": {
    "id": "F9PpfnbbkjZc"
   },
   "outputs": [],
   "source": [
    "movies[\"tag\"] = movies[\"tag\"].apply(lambda x: x.lower())"
   ]
  },
  {
   "cell_type": "code",
   "execution_count": null,
   "metadata": {
    "id": "DESC_PAPkw7E"
   },
   "outputs": [],
   "source": [
    "movies.tag[0]"
   ]
  },
  {
   "cell_type": "code",
   "execution_count": null,
   "metadata": {
    "id": "SsIjgXeXlZE0"
   },
   "outputs": [],
   "source": [
    "movies.tag[1]"
   ]
  },
  {
   "cell_type": "markdown",
   "metadata": {
    "id": "9VIdX-06ltUU"
   },
   "source": [
    "### Core Idea"
   ]
  },
  {
   "cell_type": "code",
   "execution_count": null,
   "metadata": {
    "id": "u_EulgSFlZ94"
   },
   "outputs": [],
   "source": [
    "#calculating similarity score between 2 tags, more the score, more similar the movies will be\n",
    "#using text-vectorization -> converting each text in tag col into a vector and using closely lying vectors(min dist of sep)\n",
    "\n",
    "#techniques are: BagofWords, TF-IDF, Word2Vec"
   ]
  },
  {
   "cell_type": "code",
   "execution_count": null,
   "metadata": {
    "id": "WHekL99iY9Nc"
   },
   "outputs": [],
   "source": [
    "# each movie as a vector in 2D space -> closest vectors will be recommended\n",
    "# don't consider stop words(a,in,is,on,to,for,and,are,from,etc..)\n",
    "# consider a large tag as combination of all tags in tag col find most frequently(first 5000) occurred words which would be axes for out 5000dim space\n",
    "# check occurrences of those in each film in db -> we would get a new db(~ 4800x5000)"
   ]
  },
  {
   "cell_type": "code",
   "execution_count": null,
   "metadata": {
    "id": "aiuIDylJl8Ej"
   },
   "outputs": [],
   "source": [
    "movies.head()"
   ]
  },
  {
   "cell_type": "code",
   "execution_count": null,
   "metadata": {
    "id": "ajsaB5hEbjXi"
   },
   "outputs": [],
   "source": [
    "from sklearn.feature_extraction.text import CountVectorizer\n",
    "cv = CountVectorizer(max_features = 5000,stop_words = \"english\")"
   ]
  },
  {
   "cell_type": "code",
   "execution_count": null,
   "metadata": {
    "id": "1XKod7oHb4tg"
   },
   "outputs": [],
   "source": [
    "vectors = cv.fit_transform(movies[\"tag\"]).toarray()"
   ]
  },
  {
   "cell_type": "code",
   "execution_count": null,
   "metadata": {
    "id": "sZHZOywhcMIe"
   },
   "outputs": [],
   "source": [
    "vectors"
   ]
  },
  {
   "cell_type": "code",
   "execution_count": null,
   "metadata": {
    "id": "fjgbGCERcaPV"
   },
   "outputs": [],
   "source": [
    "dir(cv)"
   ]
  },
  {
   "cell_type": "code",
   "execution_count": null,
   "metadata": {},
   "outputs": [],
   "source": [
    "dict_freq = cv.vocabulary_"
   ]
  },
  {
   "cell_type": "code",
   "execution_count": null,
   "metadata": {},
   "outputs": [],
   "source": [
    "from collections import Counter\n",
    "most_freq = Counter(dict_freq).most_common(5000)\n",
    "for key, value in most_freq:\n",
    "    print(f\"{key} : {value}\")"
   ]
  },
  {
   "cell_type": "code",
   "execution_count": null,
   "metadata": {},
   "outputs": [],
   "source": [
    "mylist = list([key for key, value in most_freq])\n",
    "mylist.reverse()\n",
    "mylist"
   ]
  },
  {
   "cell_type": "code",
   "execution_count": null,
   "metadata": {},
   "outputs": [],
   "source": [
    "#applying stemming operation to remove redundant words \n",
    "#[\"actions\",\"action\",\"acting\", ...] = [\"act\"] => ps.stem(\"acting\")"
   ]
  },
  {
   "cell_type": "code",
   "execution_count": null,
   "metadata": {},
   "outputs": [],
   "source": [
    "###removing similar words adding no extra meaning to corpus\n",
    "import nltk\n",
    "from nltk.stem.porter import PorterStemmer\n",
    "ps = PorterStemmer()"
   ]
  },
  {
   "cell_type": "code",
   "execution_count": null,
   "metadata": {},
   "outputs": [],
   "source": [
    "def stem(txt):\n",
    "    y = []\n",
    "    for i in txt.split():\n",
    "        y.append(ps.stem(i))\n",
    "    \n",
    "    return \" \".join(y)"
   ]
  },
  {
   "cell_type": "code",
   "execution_count": null,
   "metadata": {},
   "outputs": [],
   "source": [
    "ps.stem(movies.tag[0])"
   ]
  },
  {
   "cell_type": "code",
   "execution_count": null,
   "metadata": {},
   "outputs": [],
   "source": [
    "###apply to all rows of tag col\n",
    "movies[\"tag\"] = movies[\"tag\"].apply(stem)"
   ]
  },
  {
   "cell_type": "code",
   "execution_count": null,
   "metadata": {},
   "outputs": [],
   "source": [
    "cv2 = CountVectorizer(max_features = 5000, stop_words = \"english\")\n",
    "vectors2 = cv.fit_transform(movies[\"tag\"]).toarray()"
   ]
  },
  {
   "cell_type": "code",
   "execution_count": null,
   "metadata": {},
   "outputs": [],
   "source": [
    "dict_freq = cv.vocabulary_\n",
    "\n",
    "from collections import Counter\n",
    "most_freq = Counter(dict_freq).most_common(5000)\n",
    "\n",
    "mylist = list([key for key, value in most_freq])\n",
    "mylist.reverse()\n",
    "\n",
    "mylist"
   ]
  },
  {
   "cell_type": "markdown",
   "metadata": {},
   "source": [
    "### similarity using cosine distance"
   ]
  },
  {
   "cell_type": "code",
   "execution_count": null,
   "metadata": {},
   "outputs": [],
   "source": [
    "#each movie->vector ; 4806 movies and vectors(each has 5000 words in it) \n",
    "#find similarity between two movies, lesser the distance more will be the similarity\n",
    "#using cosine distance"
   ]
  },
  {
   "cell_type": "code",
   "execution_count": null,
   "metadata": {},
   "outputs": [],
   "source": [
    "from sklearn.metrics.pairwise import cosine_similarity\n",
    "sim_mat = cosine_similarity(vectors)"
   ]
  },
  {
   "cell_type": "code",
   "execution_count": null,
   "metadata": {},
   "outputs": [],
   "source": [
    "sim_mat.shape"
   ]
  },
  {
   "cell_type": "code",
   "execution_count": null,
   "metadata": {},
   "outputs": [],
   "source": [
    "sim_mat[0]\n",
    "###preserving indices of movies with distances\n",
    "###getting first 5 movies other than itself\n",
    "sorted(list(enumerate(sim_mat[0])), reverse = True, key = lambda x:x[1])[1:10]"
   ]
  },
  {
   "cell_type": "code",
   "execution_count": null,
   "metadata": {},
   "outputs": [],
   "source": [
    "def recommend(movie):\n",
    "    index_mov = movies[movies[\"title\"]==movie].index[0]\n",
    "    dist_mov = sim_mat[index_mov]\n",
    "    sim_mov_rec = sorted(list(enumerate(dist_mov)), reverse = True, key = lambda x:x[1])[1:6]\n",
    "    \n",
    "    for mov in sim_mov_rec:\n",
    "        print(movies.iloc[mov[0]][\"title\"])"
   ]
  },
  {
   "cell_type": "code",
   "execution_count": null,
   "metadata": {},
   "outputs": [],
   "source": [
    "recommend(\"Batman Begins\")\n",
    "#The Dark Knight\n",
    "#The Dark Knight Rises\n",
    "#Batman\n",
    "#Batman & Robin\n",
    "#Batman\n",
    "#Batman v Superman: Dawn of Justice\n",
    "#Defendor\n",
    "#Amidst the Devil's Wings\n",
    "#Batman Returns"
   ]
  },
  {
   "cell_type": "code",
   "execution_count": null,
   "metadata": {},
   "outputs": [],
   "source": [
    "movies.title.values#array of all the movies in tmdb"
   ]
  },
  {
   "cell_type": "code",
   "execution_count": 149,
   "metadata": {},
   "outputs": [],
   "source": [
    "import pickle\n",
    "pickle.dump(movies.to_dict(), open(\"../Movie Recommender System/movie_dict.pkl\",\"wb\"))"
   ]
  },
  {
   "cell_type": "code",
   "execution_count": null,
   "metadata": {},
   "outputs": [],
   "source": [
    "movies.to_dict()"
   ]
  },
  {
   "cell_type": "code",
   "execution_count": 150,
   "metadata": {},
   "outputs": [],
   "source": [
    "pickle.dump(sim_mat, open(\"../Movie Recommender System/sim_mat.pkl\",\"wb\"))"
   ]
  }
 ],
 "metadata": {
  "accelerator": "GPU",
  "colab": {
   "gpuType": "T4",
   "provenance": []
  },
  "kernelspec": {
   "display_name": "Python 3 (ipykernel)",
   "language": "python",
   "name": "python3"
  },
  "language_info": {
   "codemirror_mode": {
    "name": "ipython",
    "version": 3
   },
   "file_extension": ".py",
   "mimetype": "text/x-python",
   "name": "python",
   "nbconvert_exporter": "python",
   "pygments_lexer": "ipython3",
   "version": "3.10.9"
  }
 },
 "nbformat": 4,
 "nbformat_minor": 1
}
